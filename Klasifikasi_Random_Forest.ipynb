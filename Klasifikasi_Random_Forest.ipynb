{
  "nbformat": 4,
  "nbformat_minor": 0,
  "metadata": {
    "colab": {
      "provenance": [],
      "include_colab_link": true
    },
    "kernelspec": {
      "name": "python3",
      "display_name": "Python 3"
    },
    "language_info": {
      "name": "python"
    }
  },
  "cells": [
    {
      "cell_type": "markdown",
      "metadata": {
        "id": "view-in-github",
        "colab_type": "text"
      },
      "source": [
        "<a href=\"https://colab.research.google.com/github/josejulianhidayat/Analisis_Marketing_Campaign/blob/main/Klasifikasi_Random_Forest.ipynb\" target=\"_parent\"><img src=\"https://colab.research.google.com/assets/colab-badge.svg\" alt=\"Open In Colab\"/></a>"
      ]
    },
    {
      "cell_type": "markdown",
      "source": [
        "# **1. Import Library**"
      ],
      "metadata": {
        "id": "fKADPWcFKlj3"
      }
    },
    {
      "cell_type": "markdown",
      "source": [
        "Pada tahap ini, Anda perlu mengimpor beberapa pustaka (library) Python yang dibutuhkan untuk analisis data dan pembangunan model machine learning."
      ],
      "metadata": {
        "id": "LgA3ERnVn84N"
      }
    },
    {
      "cell_type": "code",
      "source": [
        "# Import pustaka yang diperlukan\n",
        "import pandas as pd\n",
        "import numpy as np\n",
        "from sklearn.model_selection import train_test_split\n",
        "from sklearn.ensemble import RandomForestClassifier\n",
        "from sklearn.metrics import accuracy_score, classification_report, confusion_matrix\n",
        "import matplotlib.pyplot as plt\n",
        "import seaborn as sns\n"
      ],
      "metadata": {
        "id": "BlmvjLY9M4Yj"
      },
      "execution_count": 1,
      "outputs": []
    },
    {
      "cell_type": "markdown",
      "source": [
        "# **2. Memuat Dataset dari Hasil Clustering**"
      ],
      "metadata": {
        "id": "f3YIEnAFKrKL"
      }
    },
    {
      "cell_type": "markdown",
      "source": [
        "Memuat dataset hasil clustering dari file CSV ke dalam variabel DataFrame."
      ],
      "metadata": {
        "id": "Ey3ItwTen_7E"
      }
    },
    {
      "cell_type": "code",
      "source": [
        "# Memuat dataset hasil clustering\n",
        "file_path = 'hasil_clustering.csv'  # Sesuaikan nama file jika berbeda\n",
        "dataset = pd.read_csv(file_path)\n",
        "\n",
        "# Tampilkan beberapa baris pertama untuk verifikasi\n",
        "print(\"Dataset yang Dimuat:\")\n",
        "print(dataset.head())\n"
      ],
      "metadata": {
        "id": "GHCGNTyrM5fS",
        "colab": {
          "base_uri": "https://localhost:8080/"
        },
        "outputId": "9587505d-8611-4267-f8b5-2ecf3d8c311f"
      },
      "execution_count": 2,
      "outputs": [
        {
          "output_type": "stream",
          "name": "stdout",
          "text": [
            "Dataset yang Dimuat:\n",
            "         ID  Year_Birth    Income  Kidhome  Teenhome   Recency  MntWines  \\\n",
            "0  0.194263    0.592233  0.067095      0.5       0.5  0.383838  0.007368   \n",
            "1  0.370029    0.699029  0.105097      0.0       0.0  0.262626  0.285332   \n",
            "2  0.552408    0.883495  0.037471      0.5       0.0  0.262626  0.007368   \n",
            "3  0.475739    0.854369  0.085065      0.5       0.0  0.949495  0.115874   \n",
            "4  0.665356    0.718447  0.091412      0.0       0.5  0.161616  0.348292   \n",
            "\n",
            "   MntFruits  MntMeatProducts  MntFishProducts  ...  Dt_Customer_636  \\\n",
            "0   0.005025         0.003478         0.007722  ...            False   \n",
            "1   0.246231         0.073623         0.428571  ...            False   \n",
            "2   0.020101         0.011594         0.038610  ...            False   \n",
            "3   0.216080         0.068406         0.177606  ...            False   \n",
            "4   0.211055         0.056812         0.000000  ...            False   \n",
            "\n",
            "   Dt_Customer_637  Dt_Customer_638  Dt_Customer_639  Dt_Customer_640  \\\n",
            "0            False            False            False            False   \n",
            "1            False            False            False            False   \n",
            "2            False            False            False            False   \n",
            "3            False            False            False            False   \n",
            "4            False            False            False            False   \n",
            "\n",
            "   Dt_Customer_641  Dt_Customer_642  Dt_Customer_643  Age_Group  Cluster  \n",
            "0            False            False            False          0      4.0  \n",
            "1            False            False            False          0      4.0  \n",
            "2            False            False            False          0      3.0  \n",
            "3            False            False            False          0      5.0  \n",
            "4            False            False            False          0      7.0  \n",
            "\n",
            "[5 rows x 682 columns]\n"
          ]
        }
      ]
    },
    {
      "cell_type": "markdown",
      "source": [
        "# **3. Data Splitting**"
      ],
      "metadata": {
        "id": "KkPem5eWL2UP"
      }
    },
    {
      "cell_type": "markdown",
      "source": [
        "Tahap Data Splitting bertujuan untuk memisahkan dataset menjadi dua bagian: data latih (training set) dan data uji (test set)."
      ],
      "metadata": {
        "id": "YYj1rl_JNI9Y"
      }
    },
    {
      "cell_type": "code",
      "source": [
        "from sklearn.model_selection import train_test_split\n",
        "\n",
        "# Pisahkan fitur (X) dan label (y)\n",
        "X = dataset.drop(columns=['Cluster'])  # 'Cluster' adalah label hasil clustering\n",
        "y = dataset['Cluster']\n",
        "\n",
        "# Memisahkan data menjadi training set (80%) dan test set (20%)\n",
        "X_train, X_test, y_train, y_test = train_test_split(X, y, test_size=0.2, random_state=42)\n",
        "\n",
        "# Verifikasi bentuk data\n",
        "print(\"Data Training:\")\n",
        "print(f\"Fitur: {X_train.shape}, Label: {y_train.shape}\")\n",
        "print(\"\\nData Testing:\")\n",
        "print(f\"Fitur: {X_test.shape}, Label: {y_test.shape}\")\n"
      ],
      "metadata": {
        "id": "OubAW-7ONKVj",
        "colab": {
          "base_uri": "https://localhost:8080/"
        },
        "outputId": "2bfb8a9f-8bde-4fe0-8922-55aed64160f4"
      },
      "execution_count": 6,
      "outputs": [
        {
          "output_type": "stream",
          "name": "stdout",
          "text": [
            "Data Training:\n",
            "Fitur: (1524, 681), Label: (1524,)\n",
            "\n",
            "Data Testing:\n",
            "Fitur: (382, 681), Label: (382,)\n"
          ]
        }
      ]
    },
    {
      "cell_type": "markdown",
      "source": [
        "# **4. Membangun Model Klasifikasi**\n"
      ],
      "metadata": {
        "id": "IVPbB03CMhTT"
      }
    },
    {
      "cell_type": "markdown",
      "source": [
        "## **a. Membangun Model Klasifikasi**"
      ],
      "metadata": {
        "id": "Ned1pL9zMmBK"
      }
    },
    {
      "cell_type": "markdown",
      "source": [
        "Setelah memilih algoritma klasifikasi yang sesuai, langkah selanjutnya adalah melatih model menggunakan data latih.\n",
        "\n",
        "Berikut adalah rekomendasi tahapannya.\n",
        "1. Pilih algoritma klasifikasi yang sesuai, seperti Logistic Regression, Decision Tree, Random Forest, atau K-Nearest Neighbors (KNN).\n",
        "2. Latih model menggunakan data latih."
      ],
      "metadata": {
        "id": "WAWzPOE4Nkti"
      }
    },
    {
      "cell_type": "code",
      "source": [
        "!pip install imbalanced-learn\n"
      ],
      "metadata": {
        "colab": {
          "base_uri": "https://localhost:8080/"
        },
        "id": "abC7cUvo0vvg",
        "outputId": "c516d278-4dac-4d6d-a48d-0916d986627a"
      },
      "execution_count": 23,
      "outputs": [
        {
          "output_type": "stream",
          "name": "stdout",
          "text": [
            "Requirement already satisfied: imbalanced-learn in /usr/local/lib/python3.10/dist-packages (0.12.4)\n",
            "Requirement already satisfied: numpy>=1.17.3 in /usr/local/lib/python3.10/dist-packages (from imbalanced-learn) (1.26.4)\n",
            "Requirement already satisfied: scipy>=1.5.0 in /usr/local/lib/python3.10/dist-packages (from imbalanced-learn) (1.13.1)\n",
            "Requirement already satisfied: scikit-learn>=1.0.2 in /usr/local/lib/python3.10/dist-packages (from imbalanced-learn) (1.5.2)\n",
            "Requirement already satisfied: joblib>=1.1.1 in /usr/local/lib/python3.10/dist-packages (from imbalanced-learn) (1.4.2)\n",
            "Requirement already satisfied: threadpoolctl>=2.0.0 in /usr/local/lib/python3.10/dist-packages (from imbalanced-learn) (3.5.0)\n"
          ]
        }
      ]
    },
    {
      "cell_type": "code",
      "source": [
        "from sklearn.cluster import KMeans\n",
        "from sklearn.preprocessing import MinMaxScaler\n",
        "from sklearn.decomposition import PCA\n",
        "\n",
        "# Normalisasi data\n",
        "scaler = MinMaxScaler()\n",
        "X_scaled = scaler.fit_transform(X)\n",
        "\n",
        "# PCA untuk reduksi dimensi\n",
        "pca = PCA(n_components=10, random_state=42)\n",
        "X_pca = pca.fit_transform(X_scaled)\n",
        "\n",
        "# Clustering dengan KMeans\n",
        "kmeans = KMeans(n_clusters=8, random_state=42)\n",
        "new_labels = kmeans.fit_predict(X_pca)\n",
        "\n",
        "# Tambahkan label baru ke dataset\n",
        "dataset['New_Cluster'] = new_labels\n",
        "\n",
        "# Gunakan New_Cluster sebagai target\n",
        "X_new = dataset.drop(columns=['Cluster', 'New_Cluster'])\n",
        "y_new = dataset['New_Cluster']\n",
        "\n",
        "# Split data untuk klasifikasi ulang\n",
        "X_train_new, X_test_new, y_train_new, y_test_new = train_test_split(X_new, y_new, test_size=0.25, random_state=42, stratify=y_new)\n"
      ],
      "metadata": {
        "id": "gWb5pXOR2fpB"
      },
      "execution_count": 33,
      "outputs": []
    },
    {
      "cell_type": "code",
      "source": [
        "# Combine features and labels for undersampling\n",
        "train_data = pd.concat([pd.DataFrame(X_train_new), pd.Series(y_train_new, name='New_Cluster')], axis=1)\n",
        "\n",
        "# Perform undersampling\n",
        "undersampled_data = train_data.groupby('New_Cluster', group_keys=False).apply(\n",
        "    lambda x: x.sample(train_data['New_Cluster'].value_counts().min(), random_state=42)\n",
        ")\n",
        "\n",
        "# Separate features and labels after undersampling\n",
        "X_train_new_balanced = undersampled_data.drop(columns=['New_Cluster']).values\n",
        "y_train_new_balanced = undersampled_data['New_Cluster'].values\n",
        "\n",
        "# Train the Random Forest model\n",
        "model = RandomForestClassifier(n_estimators=200, max_depth=20, random_state=42)\n",
        "model.fit(X_train_new_balanced, y_train_new_balanced)\n",
        "\n",
        "# Evaluate the model\n",
        "y_pred_new = model.predict(X_test_new)\n",
        "accuracy_new = accuracy_score(y_test_new, y_pred_new)\n",
        "classification_report_new = classification_report(y_test_new, y_pred_new)\n",
        "\n",
        "print(\"Accuracy:\", accuracy_new)\n",
        "print(\"Classification Report:\\n\", classification_report_new)\n"
      ],
      "metadata": {
        "colab": {
          "base_uri": "https://localhost:8080/"
        },
        "id": "tkoLh2Za5gBD",
        "outputId": "2aec22e9-9556-4877-ec00-97a222865b32"
      },
      "execution_count": 34,
      "outputs": [
        {
          "output_type": "stream",
          "name": "stderr",
          "text": [
            "<ipython-input-34-0724000f79a5>:5: DeprecationWarning: DataFrameGroupBy.apply operated on the grouping columns. This behavior is deprecated, and in a future version of pandas the grouping columns will be excluded from the operation. Either pass `include_groups=False` to exclude the groupings or explicitly select the grouping columns after groupby to silence this warning.\n",
            "  undersampled_data = train_data.groupby('New_Cluster', group_keys=False).apply(\n"
          ]
        },
        {
          "output_type": "stream",
          "name": "stdout",
          "text": [
            "Accuracy: 0.9901719901719902\n",
            "Classification Report:\n",
            "               precision    recall  f1-score   support\n",
            "\n",
            "           0       0.96      1.00      0.98        44\n",
            "           1       1.00      1.00      1.00        42\n",
            "           2       1.00      0.99      0.99        69\n",
            "           3       1.00      1.00      1.00        37\n",
            "           4       1.00      0.98      0.99        41\n",
            "           5       0.98      0.97      0.97        60\n",
            "           6       0.98      1.00      0.99        60\n",
            "           7       1.00      1.00      1.00        54\n",
            "\n",
            "    accuracy                           0.99       407\n",
            "   macro avg       0.99      0.99      0.99       407\n",
            "weighted avg       0.99      0.99      0.99       407\n",
            "\n"
          ]
        },
        {
          "output_type": "stream",
          "name": "stderr",
          "text": [
            "/usr/local/lib/python3.10/dist-packages/sklearn/base.py:486: UserWarning: X has feature names, but RandomForestClassifier was fitted without feature names\n",
            "  warnings.warn(\n"
          ]
        }
      ]
    },
    {
      "cell_type": "markdown",
      "source": [
        "Tulis narasi atau penjelasan algoritma yang Anda gunakan."
      ],
      "metadata": {
        "id": "seYoHNY3XU1y"
      }
    },
    {
      "cell_type": "markdown",
      "source": [
        "## **b. Evaluasi Model Klasifikasi**"
      ],
      "metadata": {
        "id": "ergzChZFEL-O"
      }
    },
    {
      "cell_type": "markdown",
      "source": [
        "Berikut adalah **rekomendasi** tahapannya.\n",
        "1. Lakukan prediksi menggunakan data uji.\n",
        "2. Hitung metrik evaluasi seperti Accuracy dan F1-Score (Opsional: Precision dan Recall).\n",
        "3. Buat confusion matrix untuk melihat detail prediksi benar dan salah."
      ],
      "metadata": {
        "id": "zOm68u-7NpLT"
      }
    },
    {
      "cell_type": "code",
      "source": [
        "from sklearn.metrics import confusion_matrix, ConfusionMatrixDisplay\n",
        "\n",
        "# Prediksi pada data uji\n",
        "y_pred = model.predict(X_test_new)\n",
        "\n",
        "# Hitung metrik evaluasi\n",
        "accuracy = accuracy_score(y_test_new, y_pred)\n",
        "classification_report_text = classification_report(y_test_new, y_pred)\n",
        "conf_matrix = confusion_matrix(y_test_new, y_pred)\n",
        "\n",
        "# Tampilkan metrik evaluasi\n",
        "print(\"Accuracy:\", accuracy)\n",
        "print(\"\\nClassification Report:\")\n",
        "print(classification_report_text)\n",
        "\n",
        "# Visualisasi Confusion Matrix\n",
        "disp = ConfusionMatrixDisplay(confusion_matrix=conf_matrix, display_labels=model.classes_)\n",
        "disp.plot(cmap='viridis', xticks_rotation='vertical')\n",
        "plt.title(\"Confusion Matrix\")\n",
        "plt.show()\n"
      ],
      "metadata": {
        "id": "tMq4QAssNLip",
        "colab": {
          "base_uri": "https://localhost:8080/",
          "height": 814
        },
        "outputId": "3bf6f8ba-eeaa-4631-d4f8-804b4341a0c7"
      },
      "execution_count": 35,
      "outputs": [
        {
          "output_type": "stream",
          "name": "stderr",
          "text": [
            "/usr/local/lib/python3.10/dist-packages/sklearn/base.py:486: UserWarning: X has feature names, but RandomForestClassifier was fitted without feature names\n",
            "  warnings.warn(\n"
          ]
        },
        {
          "output_type": "stream",
          "name": "stdout",
          "text": [
            "Accuracy: 0.9901719901719902\n",
            "\n",
            "Classification Report:\n",
            "              precision    recall  f1-score   support\n",
            "\n",
            "           0       0.96      1.00      0.98        44\n",
            "           1       1.00      1.00      1.00        42\n",
            "           2       1.00      0.99      0.99        69\n",
            "           3       1.00      1.00      1.00        37\n",
            "           4       1.00      0.98      0.99        41\n",
            "           5       0.98      0.97      0.97        60\n",
            "           6       0.98      1.00      0.99        60\n",
            "           7       1.00      1.00      1.00        54\n",
            "\n",
            "    accuracy                           0.99       407\n",
            "   macro avg       0.99      0.99      0.99       407\n",
            "weighted avg       0.99      0.99      0.99       407\n",
            "\n"
          ]
        },
        {
          "output_type": "display_data",
          "data": {
            "text/plain": [
              "<Figure size 640x480 with 2 Axes>"
            ],
            "image/png": "[encoded data removed]"
          },
          "metadata": {}
        }
      ]
    },
    {
      "cell_type": "markdown",
      "source": [
        "Tulis hasil evaluasi algoritma yang digunakan, jika Anda menggunakan 2 algoritma, maka bandingkan hasilnya."
      ],
      "metadata": {
        "id": "H4_9OwrsXZlz"
      }
    },
    {
      "cell_type": "markdown",
      "source": [
        "## **c. Tuning Model Klasifikasi (Optional)**"
      ],
      "metadata": {
        "id": "ph9yIYDXEPuB"
      }
    },
    {
      "cell_type": "markdown",
      "source": [
        "Gunakan GridSearchCV, RandomizedSearchCV, atau metode lainnya untuk mencari kombinasi hyperparameter terbaik"
      ],
      "metadata": {
        "id": "-Bikx3LINv5e"
      }
    },
    {
      "cell_type": "code",
      "source": [
        "from sklearn.model_selection import GridSearchCV\n",
        "from sklearn.ensemble import RandomForestClassifier\n",
        "\n",
        "# Definisikan model\n",
        "model = RandomForestClassifier(random_state=42)\n",
        "\n",
        "# Hyperparameter yang akan diuji\n",
        "param_grid = {\n",
        "    'n_estimators': [100, 200, 300],  # Jumlah pohon dalam hutan\n",
        "    'max_depth': [10, 20, 30, None],  # Kedalaman maksimal pohon\n",
        "    'min_samples_split': [2, 5, 10],  # Minimum sampel untuk split\n",
        "    'min_samples_leaf': [1, 2, 4],    # Minimum sampel pada daun\n",
        "    'max_features': ['sqrt', 'log2', None]  # Fitur maksimal yang dipertimbangkan untuk split\n",
        "}\n",
        "\n",
        "# Setup GridSearchCV\n",
        "grid_search = GridSearchCV(estimator=model, param_grid=param_grid, cv=3, scoring='accuracy', verbose=2, n_jobs=-1)\n",
        "\n",
        "# Latih model dengan GridSearch\n",
        "grid_search.fit(X_train_new_balanced, y_train_new_balanced)\n",
        "\n",
        "# Cetak parameter terbaik\n",
        "print(\"Best Parameters:\", grid_search.best_params_)\n",
        "print(\"Best Cross-Validation Accuracy:\", grid_search.best_score_)\n",
        "\n",
        "# Gunakan model terbaik untuk prediksi pada data uji\n",
        "best_model = grid_search.best_estimator_\n",
        "y_pred_best = best_model.predict(X_test_new)\n",
        "\n",
        "# Evaluasi model terbaik\n",
        "accuracy_best = accuracy_score(y_test_new, y_pred_best)\n",
        "classification_report_best = classification_report(y_test_new, y_pred_best)\n",
        "\n",
        "print(\"Accuracy (Best Model):\", accuracy_best)\n",
        "print(\"\\nClassification Report (Best Model):\")\n",
        "print(classification_report_best)\n"
      ],
      "metadata": {
        "id": "winbFzb8NL95",
        "colab": {
          "base_uri": "https://localhost:8080/"
        },
        "outputId": "bdc71a8d-ffda-4221-96f9-40dd6a607d60"
      },
      "execution_count": 36,
      "outputs": [
        {
          "output_type": "stream",
          "name": "stdout",
          "text": [
            "Fitting 3 folds for each of 324 candidates, totalling 972 fits\n",
            "Best Parameters: {'max_depth': None, 'max_features': 'log2', 'min_samples_leaf': 1, 'min_samples_split': 10, 'n_estimators': 200}\n",
            "Best Cross-Validation Accuracy: 0.989955332091311\n",
            "Accuracy (Best Model): 0.9901719901719902\n",
            "\n",
            "Classification Report (Best Model):\n",
            "              precision    recall  f1-score   support\n",
            "\n",
            "           0       0.96      1.00      0.98        44\n",
            "           1       0.98      1.00      0.99        42\n",
            "           2       1.00      0.99      0.99        69\n",
            "           3       1.00      1.00      1.00        37\n",
            "           4       1.00      0.98      0.99        41\n",
            "           5       1.00      0.97      0.98        60\n",
            "           6       1.00      1.00      1.00        60\n",
            "           7       0.98      1.00      0.99        54\n",
            "\n",
            "    accuracy                           0.99       407\n",
            "   macro avg       0.99      0.99      0.99       407\n",
            "weighted avg       0.99      0.99      0.99       407\n",
            "\n"
          ]
        },
        {
          "output_type": "stream",
          "name": "stderr",
          "text": [
            "/usr/local/lib/python3.10/dist-packages/sklearn/base.py:486: UserWarning: X has feature names, but RandomForestClassifier was fitted without feature names\n",
            "  warnings.warn(\n"
          ]
        }
      ]
    },
    {
      "cell_type": "markdown",
      "source": [
        "### Analisis Hasil Evaluasi Model Klasifikasi"
      ],
      "metadata": {
        "id": "ZRsOdm4uEgAW"
      }
    },
    {
      "cell_type": "markdown",
      "source": [
        "Analisis Hasil Evaluasi Model Klasifikasi\n",
        "---\n",
        "\n",
        "_____________________\n",
        "Performa Model\n",
        "---\n",
        "Berdasarkan hasil evaluasi, model Random Forest Classifier yang telah dituning dengan GridSearchCV menunjukkan performa yang sangat baik, dengan metrik sebagai berikut:\n",
        "\n",
        "Akurasi: 99.01%\n",
        "Akurasi menunjukkan proporsi prediksi yang benar dibandingkan dengan total prediksi. Dengan akurasi mendekati 100%, model memiliki kemampuan prediksi yang sangat andal.\n",
        "Precision, Recall, dan F1-Score:\n",
        "Precision, Recall, dan F1-Score untuk setiap kelas mendekati 1, yang menunjukkan bahwa model mampu mengklasifikasikan data dengan baik di setiap kelas tanpa bias terhadap kelas tertentu.\n",
        "\n",
        "----------------\n",
        "Hasil Evaluasi Klasifikasi\n",
        "----\n",
        "Precision:\n",
        "\n",
        "Mengukur kemampuan model dalam memberikan prediksi positif yang benar. Model memiliki nilai precision tinggi untuk semua kelas, yang berarti prediksi positif sangat akurat.\n",
        "Recall:\n",
        "\n",
        "Menunjukkan seberapa baik model mengidentifikasi semua data positif. Dengan nilai recall mendekati 1 di semua kelas, model memiliki cakupan prediksi yang luas dan dapat menangkap hampir semua data yang benar.\n",
        "F1-Score:\n",
        "\n",
        "Merupakan rata-rata harmonis antara precision dan recall. Nilai F1-Score tinggi di semua kelas menunjukkan bahwa model memiliki keseimbangan yang baik antara presisi dan cakupan prediksi.\n",
        "\n",
        "----\n",
        "Best Parameters (Hasil Tuning Hyperparameter)\n",
        "---\n",
        "Setelah proses tuning hyperparameter menggunakan GridSearchCV, berikut adalah parameter terbaik yang ditemukan:\n",
        "\n",
        "max_depth: None (tidak ada batas kedalaman pohon).\n",
        "max_features: log2 (menggunakan logaritma basis 2 untuk jumlah fitur).\n",
        "min_samples_leaf: 1 (minimal satu sampel di setiap daun pohon).\n",
        "min_samples_split: 10 (minimal 10 sampel untuk melakukan split).\n",
        "n_estimators: 200 (menggunakan 200 pohon dalam ensemble).\n",
        "Parameter ini memastikan bahwa model bekerja secara optimal dengan overfitting yang minimal.\n",
        "\n",
        "---\n",
        "Confusion Matrix\n",
        "---\n",
        "Sebagian besar prediksi berada di diagonal, yang menunjukkan bahwa model memprediksi kelas dengan sangat akurat.\n",
        "Hampir tidak ada kesalahan prediksi antar kelas."
      ],
      "metadata": {
        "id": "Hm3BhSi6N4_l"
      }
    }
  ]
}